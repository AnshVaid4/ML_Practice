{
 "cells": [
  {
   "cell_type": "code",
   "execution_count": 1,
   "metadata": {},
   "outputs": [],
   "source": [
    "import logging"
   ]
  },
  {
   "cell_type": "code",
   "execution_count": 2,
   "metadata": {},
   "outputs": [],
   "source": [
    "logging.basicConfig(filename='logs.txt',filemode='w',level=logging.DEBUG,datefmt='%d-%m-%Y %H:%M:%S',\n",
    "format='%(asctime)s - %(name)s - %(levelname)s - %(message)s')"
   ]
  },
  {
   "cell_type": "code",
   "execution_count": 3,
   "metadata": {},
   "outputs": [],
   "source": [
    "logging.debug('debug message')\n",
    "logging.error('error message')\n",
    "logging.info('info message')\n",
    "logging.critical('critical message')\n",
    "logging.fatal('fatal message')\n",
    "logging.warning('warning message')"
   ]
  },
  {
   "cell_type": "code",
   "execution_count": 4,
   "metadata": {},
   "outputs": [],
   "source": [
    "alpha=logging.getLogger('Alpha')\n",
    "alpha.setLevel(logging.DEBUG)\n",
    "logging.basicConfig(filename='logs.txt',filemode='w',level=logging.DEBUG,datefmt='%d-%m-%Y %H:%M:%S',\n",
    "format='%(asctime)s - %(name)s - %(levelname)s - %(message)s')\n",
    "alpha.debug('DEBUG messgae from class alpha')\n",
    "alpha.warning('WARNING message from class alpha')"
   ]
  },
  {
   "cell_type": "code",
   "execution_count": 5,
   "metadata": {},
   "outputs": [],
   "source": [
    "beta=logging.getLogger('Beta')\n",
    "beta.setLevel(logging.DEBUG)\n",
    "logging.basicConfig(filename='logs.txt',filemode='w',level=logging.DEBUG,datefmt='%d-%m-%Y %H:%M:%S',\n",
    "format='%(asctime)s - %(name)s - %(levelname)s - %(message)s')\n",
    "beta.debug('DEBUG messgae from class beta')\n",
    "beta.warning('WARNING message from class beta')"
   ]
  },
  {
   "cell_type": "code",
   "execution_count": null,
   "metadata": {},
   "outputs": [],
   "source": []
  }
 ],
 "metadata": {
  "kernelspec": {
   "display_name": "Python 3",
   "language": "python",
   "name": "python3"
  },
  "language_info": {
   "codemirror_mode": {
    "name": "ipython",
    "version": 3
   },
   "file_extension": ".py",
   "mimetype": "text/x-python",
   "name": "python",
   "nbconvert_exporter": "python",
   "pygments_lexer": "ipython3",
   "version": "3.12.8"
  }
 },
 "nbformat": 4,
 "nbformat_minor": 2
}
