{
 "cells": [
  {
   "cell_type": "code",
   "execution_count": 148,
   "metadata": {},
   "outputs": [],
   "source": [
    "from flask import Flask, render_template,request"
   ]
  },
  {
   "cell_type": "code",
   "execution_count": 149,
   "metadata": {},
   "outputs": [],
   "source": [
    "app=Flask(__name__)\n",
    "\n",
    "@app.route(\"/\",methods=['GET'])\n",
    "def hw():\n",
    "    if request.method=='GET':\n",
    "        return \"<h1>Hello world</h1>\"\n",
    "\n",
    "#===========================================================\n",
    "\n",
    "@app.route(\"/index.html\")\n",
    "def hw2():\n",
    "    return render_template(\"index.html\")\n",
    "\n",
    "#===========================================================\n",
    "\n",
    "@app.route(\"/form/\", methods=[\"GET\",\"POST\"])\n",
    "def form():\n",
    "    if request.method==\"GET\":\n",
    "        return render_template(\"form.html\")  \n",
    "    name=request.form['name']\n",
    "    name=\"Hello \"+name\n",
    "    return name \n",
    "\n",
    "#===========================================================\n",
    "\n",
    "@app.route(\"/form2/\", methods=[\"GET\"])\n",
    "def form2():\n",
    "    return render_template(\"form2.html\")  \n",
    "    \n",
    "@app.route(\"/form2action/\", methods=[\"POST\"])\n",
    "def form2action():\n",
    "    if request.method==\"POST\": \n",
    "        name=request.form['name']\n",
    "        age=request.form['age']\n",
    "        name=\"Hello \"+name\n",
    "        if int(age) >=18:\n",
    "            return name+\"<br>You are allowed to vote\"\n",
    "        return name+\"<br>You are not allowed to vote\"\n",
    "\n",
    "#===========================================================\n",
    "\n",
    "@app.route(\"/page/<num>\")\n",
    "def page(num):\n",
    "    return \"Page \"+num\n",
    "\n",
    "@app.route(\"/page/\")\n",
    "def pagena():\n",
    "    return \"Invalid page number\"\n",
    "\n",
    "#===========================================================\n",
    "\n",
    "@app.route(\"/account/\",methods=[\"GET\", \"POST\"])\n",
    "def account():\n",
    "    if request.method==\"GET\":\n",
    "        return render_template(\"account.html\")\n",
    "    \n",
    "    if request.method==\"POST\":\n",
    "\n",
    "        flag=\"invalid\"\n",
    "        username=request.form[\"uname\"]\n",
    "        password=request.form[\"pass\"]\n",
    "\n",
    "        if username=='ansh' and password=='ansh4':\n",
    "            flag=\"valid\"\n",
    "        \n",
    "        return  render_template(\"dashboard.html\",results=flag)\n",
    "    \n",
    "#===========================================================\n",
    "\n",
    "@app.route(\"/numbercheck/\",methods=[\"GET\",\"POST\"])\n",
    "def evenodd():\n",
    "    if request.method==\"GET\":\n",
    "        return render_template(\"evenodd/checker.html\")\n",
    "    \n",
    "    if request.method==\"POST\":\n",
    "        flag=0\n",
    "        num=request.form[\"num\"]\n",
    "        if int(num)%2==0:\n",
    "            flag=1\n",
    "\n",
    "        return render_template(\"evenodd/result.html\", results=flag, results2=request.form[\"num\"])"
   ]
  },
  {
   "cell_type": "code",
   "execution_count": 150,
   "metadata": {},
   "outputs": [
    {
     "name": "stdout",
     "output_type": "stream",
     "text": [
      " * Serving Flask app '__main__'\n",
      " * Debug mode: off\n"
     ]
    },
    {
     "name": "stderr",
     "output_type": "stream",
     "text": [
      "WARNING: This is a development server. Do not use it in a production deployment. Use a production WSGI server instead.\n",
      " * Running on http://127.0.0.1:5000\n",
      "Press CTRL+C to quit\n",
      "127.0.0.1 - - [24/Dec/2024 07:03:39] \"POST /numbercheck/ HTTP/1.1\" 200 -\n",
      "127.0.0.1 - - [24/Dec/2024 07:03:44] \"GET /numbercheck/ HTTP/1.1\" 200 -\n",
      "127.0.0.1 - - [24/Dec/2024 07:03:49] \"POST /numbercheck/ HTTP/1.1\" 200 -\n"
     ]
    }
   ],
   "source": [
    "if __name__==\"__main__\":\n",
    "    app.run()"
   ]
  },
  {
   "cell_type": "code",
   "execution_count": null,
   "metadata": {},
   "outputs": [],
   "source": []
  }
 ],
 "metadata": {
  "kernelspec": {
   "display_name": "Python 3",
   "language": "python",
   "name": "python3"
  },
  "language_info": {
   "codemirror_mode": {
    "name": "ipython",
    "version": 3
   },
   "file_extension": ".py",
   "mimetype": "text/x-python",
   "name": "python",
   "nbconvert_exporter": "python",
   "pygments_lexer": "ipython3",
   "version": "3.12.8"
  }
 },
 "nbformat": 4,
 "nbformat_minor": 2
}
