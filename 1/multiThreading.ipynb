{
 "cells": [
  {
   "cell_type": "code",
   "execution_count": 6,
   "metadata": {},
   "outputs": [],
   "source": [
    "import time\n",
    "import threading"
   ]
  },
  {
   "cell_type": "code",
   "execution_count": 7,
   "metadata": {},
   "outputs": [
    {
     "name": "stdout",
     "output_type": "stream",
     "text": [
      "Started at: 1734977284.6064017\n",
      "Printing table of 2\n",
      "Printing table of 3\n",
      "Printing table of 4\n",
      "2x1=2\n",
      "4x1=4\n",
      "3x1=3\n",
      "2x2=4\n",
      "3x2=6\n",
      "4x2=8\n",
      "2x3=6\n",
      "3x3=9\n",
      "4x3=12\n",
      "2x4=8\n",
      "3x4=12\n",
      "4x4=16\n",
      "23x5=15\n",
      "x5=10\n",
      "4x5=20\n",
      "3x6=18\n",
      "4x6=24\n",
      "2x6=12\n",
      "34x7=28\n",
      "x7=21\n",
      "2x7=14\n",
      "34x8=32\n",
      "x8=24\n",
      "2x8=16\n",
      "34x9=36\n",
      "x9=27\n",
      "2x9=18\n",
      "34x10=40\n",
      "x10=30\n",
      "2x10=20\n",
      "Time taken 10.010900497436523\n"
     ]
    }
   ],
   "source": [
    "def table2():\n",
    "    print('Printing table of',2)\n",
    "    for i in range(1,11):\n",
    "        time.sleep(1)\n",
    "        print(2,'x',i,'=',2*i,sep='')\n",
    "\n",
    "def table3():\n",
    "    print('Printing table of',3)\n",
    "    for i in range(1,11):\n",
    "        time.sleep(1)\n",
    "        print(3,'x',i,'=',3*i,sep='')\n",
    "\n",
    "def table4():\n",
    "    print('Printing table of',4)\n",
    "    for i in range(1,11):\n",
    "        time.sleep(1)\n",
    "        print(4,'x',i,'=',4*i,sep='')\n",
    "\n",
    "\n",
    "t1=threading.Thread(target=table2)\n",
    "t2=threading.Thread(target=table3)\n",
    "t3=threading.Thread(target=table4)\n",
    "\n",
    "time_start=time.time()\n",
    "print('Started at:',time_start)\n",
    "t1.start()\n",
    "t2.start()\n",
    "t3.start()\n",
    "\n",
    "t1.join()\n",
    "t2.join()\n",
    "t3.join()\n",
    "\n",
    "time_finish=time.time()-time_start\n",
    "print('Time taken',time_finish)"
   ]
  },
  {
   "cell_type": "markdown",
   "metadata": {},
   "source": [
    "---\n",
    "# Multi-Threading using thread pool executor"
   ]
  },
  {
   "cell_type": "code",
   "execution_count": 8,
   "metadata": {},
   "outputs": [],
   "source": [
    "from concurrent.futures import ThreadPoolExecutor"
   ]
  },
  {
   "cell_type": "code",
   "execution_count": 10,
   "metadata": {},
   "outputs": [
    {
     "name": "stdout",
     "output_type": "stream",
     "text": [
      "Printing table of 2\n",
      "Printing table of 3\n",
      "Printing table of 4\n",
      "2x1=2\n",
      "3x1=3\n",
      "4x1=4\n",
      "2x2=4\n",
      "4x2=8\n",
      "3x2=6\n",
      "4x3=12\n",
      "3x3=9\n",
      "2x3=6\n",
      "34x4=16\n",
      "2x4=8\n",
      "x4=12\n",
      "42x5=10\n",
      "x5=20\n",
      "3x5=15\n",
      "34x6=24\n",
      "2x6=12\n",
      "x6=18\n",
      "42x7=14\n",
      "x7=28\n",
      "3x7=21\n",
      "2x8=16\n",
      "4x8=32\n",
      "3x8=24\n",
      "2x9=18\n",
      "4x9=36\n",
      "3x9=27\n",
      "2x10=20\n",
      "4x10=40\n",
      "3x10=30\n",
      "Time taken 10.014350414276123\n"
     ]
    }
   ],
   "source": [
    "def tables(n):\n",
    "    print('Printing table of',n)\n",
    "    for i in range(1,11):\n",
    "        time.sleep(1)\n",
    "        print(n,'x',i,'=',n*i,sep='')\n",
    "\n",
    "\n",
    "time_start=time.time()\n",
    "\n",
    "with ThreadPoolExecutor(max_workers=3) as threads:\n",
    "    threads.map(tables,[2,3,4])\n",
    "    \n",
    "\n",
    "time_finish=time.time()-time_start\n",
    "print('Time taken',time_finish)"
   ]
  },
  {
   "cell_type": "code",
   "execution_count": null,
   "metadata": {},
   "outputs": [],
   "source": []
  }
 ],
 "metadata": {
  "kernelspec": {
   "display_name": "Python 3",
   "language": "python",
   "name": "python3"
  },
  "language_info": {
   "codemirror_mode": {
    "name": "ipython",
    "version": 3
   },
   "file_extension": ".py",
   "mimetype": "text/x-python",
   "name": "python",
   "nbconvert_exporter": "python",
   "pygments_lexer": "ipython3",
   "version": "3.12.8"
  }
 },
 "nbformat": 4,
 "nbformat_minor": 2
}
