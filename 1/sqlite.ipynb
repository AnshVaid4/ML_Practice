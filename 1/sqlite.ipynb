{
 "cells": [
  {
   "cell_type": "code",
   "execution_count": 2,
   "metadata": {},
   "outputs": [],
   "source": [
    "import sqlite3"
   ]
  },
  {
   "cell_type": "code",
   "execution_count": 3,
   "metadata": {},
   "outputs": [],
   "source": [
    "connect=sqlite3.connect('test.db')\n",
    "cursor=connect.cursor()"
   ]
  },
  {
   "cell_type": "code",
   "execution_count": null,
   "metadata": {},
   "outputs": [],
   "source": [
    "cursor.execute('create table users (uid int primary key, \\\n",
    "               name varchar(10), \\\n",
    "               password text)')\n",
    "connect.commit()"
   ]
  },
  {
   "cell_type": "code",
   "execution_count": 8,
   "metadata": {},
   "outputs": [
    {
     "data": {
      "text/plain": [
       "<sqlite3.Cursor at 0x1f0c8bdf440>"
      ]
     },
     "execution_count": 8,
     "metadata": {},
     "output_type": "execute_result"
    }
   ],
   "source": [
    "cursor.execute('select * from users')"
   ]
  },
  {
   "cell_type": "code",
   "execution_count": 9,
   "metadata": {},
   "outputs": [],
   "source": [
    "cursor.execute('insert into users(name, password) values (\"Ramesh\",\"R@mesh123\")')\n",
    "connect.commit()"
   ]
  },
  {
   "cell_type": "code",
   "execution_count": 11,
   "metadata": {},
   "outputs": [
    {
     "name": "stdout",
     "output_type": "stream",
     "text": [
      "(None, 'Ramesh', 'R@mesh123')\n"
     ]
    }
   ],
   "source": [
    "values=cursor.execute('select * from users')\n",
    "for i in values:\n",
    "    print(i)"
   ]
  },
  {
   "cell_type": "code",
   "execution_count": 15,
   "metadata": {},
   "outputs": [],
   "source": [
    "values=[[2,'Rakesh','qwerty'],[3,'Priya','uuwoihvi4'],[4,'Aman','3983jfjihIH*_']]\n",
    "cursor.executemany('insert into users(uid, name, password) values(?,?,?)',values)\n",
    "connect.commit()"
   ]
  },
  {
   "cell_type": "code",
   "execution_count": 16,
   "metadata": {},
   "outputs": [
    {
     "name": "stdout",
     "output_type": "stream",
     "text": [
      "(None, 'Ramesh', 'R@mesh123')\n",
      "(2, 'Rakesh', 'qwerty')\n",
      "(3, 'Priya', 'uuwoihvi4')\n",
      "(4, 'Aman', '3983jfjihIH*_')\n"
     ]
    }
   ],
   "source": [
    "values=cursor.execute('select * from users')\n",
    "for i in values:\n",
    "    print(i)"
   ]
  },
  {
   "cell_type": "code",
   "execution_count": 19,
   "metadata": {},
   "outputs": [],
   "source": [
    "cursor.execute('update  users set uid=1 where name =\"Ramesh\"')\n",
    "connect.commit()"
   ]
  },
  {
   "cell_type": "code",
   "execution_count": 20,
   "metadata": {},
   "outputs": [
    {
     "name": "stdout",
     "output_type": "stream",
     "text": [
      "(1, 'Ramesh', 'R@mesh123')\n",
      "(2, 'Rakesh', 'qwerty')\n",
      "(3, 'Priya', 'uuwoihvi4')\n",
      "(4, 'Aman', '3983jfjihIH*_')\n"
     ]
    }
   ],
   "source": [
    "values=cursor.execute('select * from users')\n",
    "for i in values:\n",
    "    print(i)"
   ]
  },
  {
   "cell_type": "code",
   "execution_count": 21,
   "metadata": {},
   "outputs": [],
   "source": [
    "connect.close()"
   ]
  },
  {
   "cell_type": "code",
   "execution_count": null,
   "metadata": {},
   "outputs": [],
   "source": []
  }
 ],
 "metadata": {
  "kernelspec": {
   "display_name": "Python 3",
   "language": "python",
   "name": "python3"
  },
  "language_info": {
   "codemirror_mode": {
    "name": "ipython",
    "version": 3
   },
   "file_extension": ".py",
   "mimetype": "text/x-python",
   "name": "python",
   "nbconvert_exporter": "python",
   "pygments_lexer": "ipython3",
   "version": "3.12.8"
  }
 },
 "nbformat": 4,
 "nbformat_minor": 2
}
