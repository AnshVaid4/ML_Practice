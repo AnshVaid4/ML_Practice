{
 "cells": [
  {
   "cell_type": "code",
   "execution_count": 1,
   "metadata": {},
   "outputs": [],
   "source": [
    "import pandas as pd\n",
    "import numpy as np\n",
    "import matplotlib.pyplot as plt"
   ]
  },
  {
   "cell_type": "code",
   "execution_count": 2,
   "metadata": {},
   "outputs": [],
   "source": [
    "from tensorflow.keras.preprocessing.text import one_hot\n",
    "sentences=['It is a pleasent morning',\n",
    "           'Sun rises in the east',\n",
    "           'Oranges are rich in vitamin C',\n",
    "           'Milk products have calcium in it',\n",
    "           'Waiter is bringing the food menu']"
   ]
  },
  {
   "cell_type": "code",
   "execution_count": 6,
   "metadata": {},
   "outputs": [
    {
     "data": {
      "text/plain": [
       "[[3579, 5222, 2110, 9828, 3086],\n",
       " [2793, 1639, 310, 3420, 6970],\n",
       " [8748, 2394, 3304, 310, 1390, 9648],\n",
       " [1794, 2222, 4429, 7990, 310, 3579],\n",
       " [8491, 5222, 8466, 3420, 6838, 243]]"
      ]
     },
     "execution_count": 6,
     "metadata": {},
     "output_type": "execute_result"
    }
   ],
   "source": [
    "vocabulary_size=10000\n",
    "encodings=[]\n",
    "for sentence in sentences:\n",
    "    encodings.append(one_hot(sentence,vocabulary_size))\n",
    "encodings"
   ]
  },
  {
   "cell_type": "code",
   "execution_count": 7,
   "metadata": {},
   "outputs": [],
   "source": [
    "from tensorflow.keras.layers import Embedding\n",
    "from tensorflow.keras.utils import pad_sequences\n",
    "from tensorflow.keras.models import Sequential"
   ]
  },
  {
   "cell_type": "code",
   "execution_count": 10,
   "metadata": {},
   "outputs": [
    {
     "data": {
      "text/plain": [
       "array([[3579, 5222, 2110, 9828, 3086,    0,    0],\n",
       "       [2793, 1639,  310, 3420, 6970,    0,    0],\n",
       "       [8748, 2394, 3304,  310, 1390, 9648,    0],\n",
       "       [1794, 2222, 4429, 7990,  310, 3579,    0],\n",
       "       [8491, 5222, 8466, 3420, 6838,  243,    0]], dtype=int32)"
      ]
     },
     "execution_count": 10,
     "metadata": {},
     "output_type": "execute_result"
    }
   ],
   "source": [
    "max_seq_len=7\n",
    "embeddings=pad_sequences(encodings,padding='post',maxlen=max_seq_len)\n",
    "embeddings"
   ]
  },
  {
   "cell_type": "code",
   "execution_count": 32,
   "metadata": {},
   "outputs": [
    {
     "data": {
      "text/html": [
       "<pre style=\"white-space:pre;overflow-x:auto;line-height:normal;font-family:Menlo,'DejaVu Sans Mono',consolas,'Courier New',monospace\"><span style=\"font-weight: bold\">Model: \"sequential_15\"</span>\n",
       "</pre>\n"
      ],
      "text/plain": [
       "\u001b[1mModel: \"sequential_15\"\u001b[0m\n"
      ]
     },
     "metadata": {},
     "output_type": "display_data"
    },
    {
     "data": {
      "text/html": [
       "<pre style=\"white-space:pre;overflow-x:auto;line-height:normal;font-family:Menlo,'DejaVu Sans Mono',consolas,'Courier New',monospace\">┏━━━━━━━━━━━━━━━━━━━━━━━━━━━━━━━━━┳━━━━━━━━━━━━━━━━━━━━━━━━┳━━━━━━━━━━━━━━━┓\n",
       "┃<span style=\"font-weight: bold\"> Layer (type)                    </span>┃<span style=\"font-weight: bold\"> Output Shape           </span>┃<span style=\"font-weight: bold\">       Param # </span>┃\n",
       "┡━━━━━━━━━━━━━━━━━━━━━━━━━━━━━━━━━╇━━━━━━━━━━━━━━━━━━━━━━━━╇━━━━━━━━━━━━━━━┩\n",
       "│ embedding_14 (<span style=\"color: #0087ff; text-decoration-color: #0087ff\">Embedding</span>)        │ (<span style=\"color: #00d7ff; text-decoration-color: #00d7ff\">None</span>, <span style=\"color: #00af00; text-decoration-color: #00af00\">7</span>, <span style=\"color: #00af00; text-decoration-color: #00af00\">100</span>)         │     <span style=\"color: #00af00; text-decoration-color: #00af00\">1,000,000</span> │\n",
       "└─────────────────────────────────┴────────────────────────┴───────────────┘\n",
       "</pre>\n"
      ],
      "text/plain": [
       "┏━━━━━━━━━━━━━━━━━━━━━━━━━━━━━━━━━┳━━━━━━━━━━━━━━━━━━━━━━━━┳━━━━━━━━━━━━━━━┓\n",
       "┃\u001b[1m \u001b[0m\u001b[1mLayer (type)                   \u001b[0m\u001b[1m \u001b[0m┃\u001b[1m \u001b[0m\u001b[1mOutput Shape          \u001b[0m\u001b[1m \u001b[0m┃\u001b[1m \u001b[0m\u001b[1m      Param #\u001b[0m\u001b[1m \u001b[0m┃\n",
       "┡━━━━━━━━━━━━━━━━━━━━━━━━━━━━━━━━━╇━━━━━━━━━━━━━━━━━━━━━━━━╇━━━━━━━━━━━━━━━┩\n",
       "│ embedding_14 (\u001b[38;5;33mEmbedding\u001b[0m)        │ (\u001b[38;5;45mNone\u001b[0m, \u001b[38;5;34m7\u001b[0m, \u001b[38;5;34m100\u001b[0m)         │     \u001b[38;5;34m1,000,000\u001b[0m │\n",
       "└─────────────────────────────────┴────────────────────────┴───────────────┘\n"
      ]
     },
     "metadata": {},
     "output_type": "display_data"
    },
    {
     "data": {
      "text/html": [
       "<pre style=\"white-space:pre;overflow-x:auto;line-height:normal;font-family:Menlo,'DejaVu Sans Mono',consolas,'Courier New',monospace\"><span style=\"font-weight: bold\"> Total params: </span><span style=\"color: #00af00; text-decoration-color: #00af00\">1,000,000</span> (3.81 MB)\n",
       "</pre>\n"
      ],
      "text/plain": [
       "\u001b[1m Total params: \u001b[0m\u001b[38;5;34m1,000,000\u001b[0m (3.81 MB)\n"
      ]
     },
     "metadata": {},
     "output_type": "display_data"
    },
    {
     "data": {
      "text/html": [
       "<pre style=\"white-space:pre;overflow-x:auto;line-height:normal;font-family:Menlo,'DejaVu Sans Mono',consolas,'Courier New',monospace\"><span style=\"font-weight: bold\"> Trainable params: </span><span style=\"color: #00af00; text-decoration-color: #00af00\">1,000,000</span> (3.81 MB)\n",
       "</pre>\n"
      ],
      "text/plain": [
       "\u001b[1m Trainable params: \u001b[0m\u001b[38;5;34m1,000,000\u001b[0m (3.81 MB)\n"
      ]
     },
     "metadata": {},
     "output_type": "display_data"
    },
    {
     "data": {
      "text/html": [
       "<pre style=\"white-space:pre;overflow-x:auto;line-height:normal;font-family:Menlo,'DejaVu Sans Mono',consolas,'Courier New',monospace\"><span style=\"font-weight: bold\"> Non-trainable params: </span><span style=\"color: #00af00; text-decoration-color: #00af00\">0</span> (0.00 B)\n",
       "</pre>\n"
      ],
      "text/plain": [
       "\u001b[1m Non-trainable params: \u001b[0m\u001b[38;5;34m0\u001b[0m (0.00 B)\n"
      ]
     },
     "metadata": {},
     "output_type": "display_data"
    }
   ],
   "source": [
    "features=100\n",
    "model=Sequential()\n",
    "model.add(Embedding(vocabulary_size,features,input_shape=(max_seq_len,)))\n",
    "model.compile('adam','mse')\n",
    "model.summary()"
   ]
  },
  {
   "cell_type": "code",
   "execution_count": 35,
   "metadata": {},
   "outputs": [
    {
     "name": "stdout",
     "output_type": "stream",
     "text": [
      "\u001b[1m1/1\u001b[0m \u001b[32m━━━━━━━━━━━━━━━━━━━━\u001b[0m\u001b[37m\u001b[0m \u001b[1m0s\u001b[0m 58ms/step\n"
     ]
    },
    {
     "data": {
      "text/plain": [
       "array([[[ 0.00283973,  0.02632907, -0.00872581, ...,  0.01498235,\n",
       "          0.03121966, -0.01895489],\n",
       "        [ 0.00563603,  0.01427991, -0.02986422, ...,  0.02582389,\n",
       "         -0.02326286,  0.04001952],\n",
       "        [ 0.01677997,  0.0462363 ,  0.03665474, ..., -0.03000372,\n",
       "         -0.0488985 ,  0.00174608],\n",
       "        ...,\n",
       "        [-0.01869956,  0.04603055,  0.00586951, ...,  0.01507069,\n",
       "         -0.02154979,  0.04681549],\n",
       "        [ 0.0113248 , -0.0326628 , -0.02558323, ...,  0.0416569 ,\n",
       "         -0.00722475,  0.01972616],\n",
       "        [ 0.0113248 , -0.0326628 , -0.02558323, ...,  0.0416569 ,\n",
       "         -0.00722475,  0.01972616]],\n",
       "\n",
       "       [[ 0.04172485,  0.02983722, -0.00442333, ...,  0.03380011,\n",
       "         -0.0117888 , -0.02312052],\n",
       "        [-0.0185948 ,  0.03161583, -0.02695402, ..., -0.0198906 ,\n",
       "         -0.02007455, -0.02121146],\n",
       "        [-0.00135035, -0.00157322, -0.00015108, ..., -0.04762712,\n",
       "         -0.01788364,  0.03309255],\n",
       "        ...,\n",
       "        [-0.04251871,  0.02406159, -0.04847816, ...,  0.03624287,\n",
       "         -0.033114  ,  0.0023521 ],\n",
       "        [ 0.0113248 , -0.0326628 , -0.02558323, ...,  0.0416569 ,\n",
       "         -0.00722475,  0.01972616],\n",
       "        [ 0.0113248 , -0.0326628 , -0.02558323, ...,  0.0416569 ,\n",
       "         -0.00722475,  0.01972616]],\n",
       "\n",
       "       [[ 0.01319874, -0.01702949, -0.02778981, ..., -0.04470049,\n",
       "         -0.03950537,  0.01455785],\n",
       "        [ 0.03649333, -0.01695218, -0.04761861, ..., -0.00781754,\n",
       "         -0.00116111, -0.00935161],\n",
       "        [-0.01500423, -0.03318992,  0.00398409, ...,  0.04088582,\n",
       "         -0.02954614,  0.0340762 ],\n",
       "        ...,\n",
       "        [ 0.03226997,  0.02676168,  0.02329776, ..., -0.02874104,\n",
       "          0.03273329, -0.04444419],\n",
       "        [-0.01866492, -0.02916831,  0.01877211, ..., -0.04757247,\n",
       "         -0.005298  ,  0.00585232],\n",
       "        [ 0.0113248 , -0.0326628 , -0.02558323, ...,  0.0416569 ,\n",
       "         -0.00722475,  0.01972616]],\n",
       "\n",
       "       [[ 0.01141462, -0.02554095,  0.04052315, ...,  0.0279415 ,\n",
       "         -0.02693956, -0.0145937 ],\n",
       "        [-0.03255111,  0.01159181,  0.02560106, ...,  0.00291688,\n",
       "         -0.00147618,  0.03918156],\n",
       "        [-0.0042608 ,  0.03695946,  0.02260473, ..., -0.01264445,\n",
       "         -0.02144679,  0.01184808],\n",
       "        ...,\n",
       "        [-0.00135035, -0.00157322, -0.00015108, ..., -0.04762712,\n",
       "         -0.01788364,  0.03309255],\n",
       "        [ 0.00283973,  0.02632907, -0.00872581, ...,  0.01498235,\n",
       "          0.03121966, -0.01895489],\n",
       "        [ 0.0113248 , -0.0326628 , -0.02558323, ...,  0.0416569 ,\n",
       "         -0.00722475,  0.01972616]],\n",
       "\n",
       "       [[-0.02447845,  0.01841095,  0.00339378, ..., -0.01266158,\n",
       "          0.04770846,  0.02238877],\n",
       "        [ 0.00563603,  0.01427991, -0.02986422, ...,  0.02582389,\n",
       "         -0.02326286,  0.04001952],\n",
       "        [ 0.04136385,  0.01481538, -0.04728692, ..., -0.04965172,\n",
       "          0.00793133, -0.03975404],\n",
       "        ...,\n",
       "        [ 0.01496187,  0.0357    ,  0.02534945, ...,  0.01626224,\n",
       "          0.01091188,  0.00376697],\n",
       "        [ 0.00353613,  0.01829919,  0.04246086, ..., -0.00826655,\n",
       "         -0.00477179, -0.00310649],\n",
       "        [ 0.0113248 , -0.0326628 , -0.02558323, ...,  0.0416569 ,\n",
       "         -0.00722475,  0.01972616]]], dtype=float32)"
      ]
     },
     "execution_count": 35,
     "metadata": {},
     "output_type": "execute_result"
    }
   ],
   "source": [
    "model.predict(embeddings)"
   ]
  },
  {
   "cell_type": "code",
   "execution_count": 37,
   "metadata": {},
   "outputs": [
    {
     "name": "stdout",
     "output_type": "stream",
     "text": [
      "\u001b[1m1/1\u001b[0m \u001b[32m━━━━━━━━━━━━━━━━━━━━\u001b[0m\u001b[37m\u001b[0m \u001b[1m0s\u001b[0m 48ms/step\n"
     ]
    },
    {
     "data": {
      "text/plain": [
       "(5, 7, 100)"
      ]
     },
     "execution_count": 37,
     "metadata": {},
     "output_type": "execute_result"
    }
   ],
   "source": [
    "model.predict(embeddings).shape"
   ]
  },
  {
   "cell_type": "code",
   "execution_count": null,
   "metadata": {},
   "outputs": [],
   "source": []
  }
 ],
 "metadata": {
  "kernelspec": {
   "display_name": "Python 3",
   "language": "python",
   "name": "python3"
  },
  "language_info": {
   "codemirror_mode": {
    "name": "ipython",
    "version": 3
   },
   "file_extension": ".py",
   "mimetype": "text/x-python",
   "name": "python",
   "nbconvert_exporter": "python",
   "pygments_lexer": "ipython3",
   "version": "3.10.0"
  }
 },
 "nbformat": 4,
 "nbformat_minor": 2
}
