{
 "cells": [
  {
   "cell_type": "code",
   "execution_count": 97,
   "metadata": {},
   "outputs": [],
   "source": [
    "words=['training','slept','healthier','sleeping','planted','happiest', 'happily','flew',\n",
    "       'flying','mystery','mysterious','electing','election','elected','elections','reduction','reduced',\n",
    "       'honesty','modesty','go','goes','going','went']"
   ]
  },
  {
   "cell_type": "code",
   "execution_count": 98,
   "metadata": {},
   "outputs": [
    {
     "name": "stderr",
     "output_type": "stream",
     "text": [
      "[nltk_data] Downloading package wordnet to\n",
      "[nltk_data]     C:\\Users\\anshv\\AppData\\Roaming\\nltk_data...\n",
      "[nltk_data]   Package wordnet is already up-to-date!\n"
     ]
    },
    {
     "data": {
      "text/plain": [
       "True"
      ]
     },
     "execution_count": 98,
     "metadata": {},
     "output_type": "execute_result"
    }
   ],
   "source": [
    "import nltk\n",
    "nltk.download('wordnet')"
   ]
  },
  {
   "cell_type": "code",
   "execution_count": 99,
   "metadata": {},
   "outputs": [],
   "source": [
    "from nltk.stem import PorterStemmer\n",
    "ps=[]\n",
    "stem=PorterStemmer()\n",
    "for word in words:\n",
    "    ps.append(stem.stem(word=word))"
   ]
  },
  {
   "cell_type": "code",
   "execution_count": 100,
   "metadata": {},
   "outputs": [],
   "source": [
    "from nltk.stem import RegexpStemmer\n",
    "rs=[]\n",
    "stem=RegexpStemmer('ing$|s$|e$|able$', min=5)\n",
    "for word in words:\n",
    "    rs.append(stem.stem(word=word))\n",
    "rs.append(stem.stem('ping'))"
   ]
  },
  {
   "cell_type": "code",
   "execution_count": 101,
   "metadata": {},
   "outputs": [],
   "source": [
    "from nltk.stem import SnowballStemmer\n",
    "ss=[]\n",
    "stem=SnowballStemmer('english')\n",
    "for word in words:\n",
    "    ss.append(stem.stem(word=word))"
   ]
  },
  {
   "cell_type": "code",
   "execution_count": 102,
   "metadata": {},
   "outputs": [
    {
     "name": "stdout",
     "output_type": "stream",
     "text": [
      "Original: ['training', 'slept', 'healthier', 'sleeping', 'planted', 'happiest', 'happily', 'flew', 'flying', 'mystery', 'mysterious', 'electing', 'election', 'elected', 'elections', 'reduction', 'reduced', 'honesty', 'modesty', 'go', 'goes', 'going', 'went']\n",
      "PortStem: ['train', 'slept', 'healthier', 'sleep', 'plant', 'happiest', 'happili', 'flew', 'fli', 'mysteri', 'mysteri', 'elect', 'elect', 'elect', 'elect', 'reduct', 'reduc', 'honesti', 'modesti', 'go', 'goe', 'go', 'went']\n",
      "RegexSte: ['train', 'slept', 'healthier', 'sleep', 'planted', 'happiest', 'happily', 'flew', 'fly', 'mystery', 'mysteriou', 'elect', 'election', 'elected', 'election', 'reduction', 'reduced', 'honesty', 'modesty', 'go', 'goes', 'go', 'went', 'ping']\n",
      "Snowball: ['train', 'slept', 'healthier', 'sleep', 'plant', 'happiest', 'happili', 'flew', 'fli', 'mysteri', 'mysteri', 'elect', 'elect', 'elect', 'elect', 'reduct', 'reduc', 'honesti', 'modesti', 'go', 'goe', 'go', 'went']\n"
     ]
    },
    {
     "data": {
      "text/plain": [
       "(None, None, None, None)"
      ]
     },
     "execution_count": 102,
     "metadata": {},
     "output_type": "execute_result"
    }
   ],
   "source": [
    "print('Original:',words),print('PortStem:',ps),print('RegexSte:',rs),print('Snowball:',ss)"
   ]
  },
  {
   "cell_type": "markdown",
   "metadata": {},
   "source": [
    "---\n",
    "<br><br>\n",
    "# Lemmatizer"
   ]
  },
  {
   "cell_type": "code",
   "execution_count": 109,
   "metadata": {},
   "outputs": [],
   "source": [
    "from nltk.stem import WordNetLemmatizer\n",
    "stem=WordNetLemmatizer()  #noun, verb, adjective, adverb\n",
    "wl=[]\n",
    "for word in words:\n",
    "    wl.append(stem.lemmatize(word=word))"
   ]
  },
  {
   "cell_type": "code",
   "execution_count": 110,
   "metadata": {},
   "outputs": [
    {
     "name": "stdout",
     "output_type": "stream",
     "text": [
      "Original: ['training', 'slept', 'healthier', 'sleeping', 'planted', 'happiest', 'happily', 'flew', 'flying', 'mystery', 'mysterious', 'electing', 'election', 'elected', 'elections', 'reduction', 'reduced', 'honesty', 'modesty', 'go', 'goes', 'going', 'went']\n",
      "WordnetL: ['training', 'slept', 'healthier', 'sleeping', 'planted', 'happiest', 'happily', 'flew', 'flying', 'mystery', 'mysterious', 'electing', 'election', 'elected', 'election', 'reduction', 'reduced', 'honesty', 'modesty', 'go', 'go', 'going', 'went']\n"
     ]
    },
    {
     "data": {
      "text/plain": [
       "(None, None)"
      ]
     },
     "execution_count": 110,
     "metadata": {},
     "output_type": "execute_result"
    }
   ],
   "source": [
    "print('Original:',words),print('WordnetL:',wl)"
   ]
  },
  {
   "cell_type": "code",
   "execution_count": 111,
   "metadata": {},
   "outputs": [
    {
     "name": "stdout",
     "output_type": "stream",
     "text": [
      "Original: ['training', 'slept', 'healthier', 'sleeping', 'planted', 'happiest', 'happily', 'flew', 'flying', 'mystery', 'mysterious', 'electing', 'election', 'elected', 'elections', 'reduction', 'reduced', 'honesty', 'modesty', 'go', 'goes', 'going', 'went']\n",
      "WordnetL: ['train', 'sleep', 'healthier', 'sleep', 'plant', 'happiest', 'happily', 'fly', 'fly', 'mystery', 'mysterious', 'elect', 'election', 'elect', 'elections', 'reduction', 'reduce', 'honesty', 'modesty', 'go', 'go', 'go', 'go']\n"
     ]
    },
    {
     "data": {
      "text/plain": [
       "(None, None)"
      ]
     },
     "execution_count": 111,
     "metadata": {},
     "output_type": "execute_result"
    }
   ],
   "source": [
    "stem=WordNetLemmatizer()  #noun, verb, adjective, adverb\n",
    "wl=[]\n",
    "for word in words:\n",
    "    wl.append(stem.lemmatize(word=word,pos='v'))\n",
    "print('Original:',words),print('WordnetL:',wl)"
   ]
  },
  {
   "cell_type": "code",
   "execution_count": null,
   "metadata": {},
   "outputs": [],
   "source": []
  }
 ],
 "metadata": {
  "kernelspec": {
   "display_name": "Python 3",
   "language": "python",
   "name": "python3"
  },
  "language_info": {
   "codemirror_mode": {
    "name": "ipython",
    "version": 3
   },
   "file_extension": ".py",
   "mimetype": "text/x-python",
   "name": "python",
   "nbconvert_exporter": "python",
   "pygments_lexer": "ipython3",
   "version": "3.10.0"
  }
 },
 "nbformat": 4,
 "nbformat_minor": 2
}
