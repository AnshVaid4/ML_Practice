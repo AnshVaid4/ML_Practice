{
 "cells": [
  {
   "cell_type": "code",
   "execution_count": 20,
   "metadata": {},
   "outputs": [
    {
     "name": "stderr",
     "output_type": "stream",
     "text": [
      "[nltk_data] Downloading package averaged_perceptron_tagger_eng to\n",
      "[nltk_data]     C:\\Users\\anshv\\AppData\\Roaming\\nltk_data...\n",
      "[nltk_data]   Package averaged_perceptron_tagger_eng is already up-to-\n",
      "[nltk_data]       date!\n"
     ]
    },
    {
     "data": {
      "text/plain": [
       "True"
      ]
     },
     "execution_count": 20,
     "metadata": {},
     "output_type": "execute_result"
    }
   ],
   "source": [
    "import nltk\n",
    "nltk.download('averaged_perceptron_tagger_eng')"
   ]
  },
  {
   "cell_type": "code",
   "execution_count": 21,
   "metadata": {},
   "outputs": [],
   "source": [
    "corpus=\"\"\"\n",
    "Thank you for this wonderful welcome. Thank you to the people of Prague. And thank you to\n",
    "the people of the Czech Republic. Today, I am proud to stand here with you in the middle of\n",
    "this great city, in the center of Europe. And - to paraphrase one my predecessors - I am also\n",
    "proud to be the man who brought Michelle Obama to Prague.\n",
    "I have learned over many years to appreciate the good company and good humor of the Czech\n",
    "people in my hometown of Chicago. Behind me is a statue of a hero of the Czech people -\n",
    "Tomas Masaryk. In 1918, after America had pledged its support for Czech independence,\n",
    "Masaryk spoke to a crowd in Chicago that was estimated to be over 100.000. I don't think I\n",
    "can match Masaryk's record, but I'm honored to follow his footsteps from Chicago to Prague.\n",
    "For over a thousand years, Prague has set itself apart from any other city in any other place.\n",
    "You have known war and peace. You have seen empires rise and fall. You have led\n",
    "revolutions in the arts and science, in politics and poetry. Through it all, the people of Prague\n",
    "have insisted on pursuing their own path, and defining their own destiny. And this city - this\n",
    "Golden City which is both ancient and youthful - stands as a living monument to your\n",
    "unconquerable spirit.\n",
    "When I was born, the world was divided, and our nations were faced with very different\n",
    "circumstances. Few people would have predicted that someone like me would one day\n",
    "become an American President. Few people would have predicted that an American President\n",
    "would one day be permitted to speak to an audience like this in Prague. And few would have\n",
    "imagined that the Czech Republic would become a free nation, a member of NATO, and a\n",
    "leader of a united Europe. Those ideas would have been dismissed as dream\n",
    "\"\"\""
   ]
  },
  {
   "cell_type": "code",
   "execution_count": 22,
   "metadata": {},
   "outputs": [
    {
     "data": {
      "text/plain": [
       "['\\nThank you for this wonderful welcome.',\n",
       " 'Thank you to the people of Prague.',\n",
       " 'And thank you to\\nthe people of the Czech Republic.',\n",
       " 'Today, I am proud to stand here with you in the middle of\\nthis great city, in the center of Europe.',\n",
       " 'And - to paraphrase one my predecessors - I am also\\nproud to be the man who brought Michelle Obama to Prague.',\n",
       " 'I have learned over many years to appreciate the good company and good humor of the Czech\\npeople in my hometown of Chicago.',\n",
       " 'Behind me is a statue of a hero of the Czech people -\\nTomas Masaryk.',\n",
       " 'In 1918, after America had pledged its support for Czech independence,\\nMasaryk spoke to a crowd in Chicago that was estimated to be over 100.000.',\n",
       " \"I don't think I\\ncan match Masaryk's record, but I'm honored to follow his footsteps from Chicago to Prague.\",\n",
       " 'For over a thousand years, Prague has set itself apart from any other city in any other place.',\n",
       " 'You have known war and peace.',\n",
       " 'You have seen empires rise and fall.',\n",
       " 'You have led\\nrevolutions in the arts and science, in politics and poetry.',\n",
       " 'Through it all, the people of Prague\\nhave insisted on pursuing their own path, and defining their own destiny.',\n",
       " 'And this city - this\\nGolden City which is both ancient and youthful - stands as a living monument to your\\nunconquerable spirit.',\n",
       " 'When I was born, the world was divided, and our nations were faced with very different\\ncircumstances.',\n",
       " 'Few people would have predicted that someone like me would one day\\nbecome an American President.',\n",
       " 'Few people would have predicted that an American President\\nwould one day be permitted to speak to an audience like this in Prague.',\n",
       " 'And few would have\\nimagined that the Czech Republic would become a free nation, a member of NATO, and a\\nleader of a united Europe.',\n",
       " 'Those ideas would have been dismissed as dream']"
      ]
     },
     "execution_count": 22,
     "metadata": {},
     "output_type": "execute_result"
    }
   ],
   "source": [
    "from nltk.tokenize import sent_tokenize\n",
    "from nltk.tokenize import word_tokenize\n",
    "documents=sent_tokenize(corpus)\n",
    "documents"
   ]
  },
  {
   "cell_type": "code",
   "execution_count": 23,
   "metadata": {},
   "outputs": [
    {
     "data": {
      "text/plain": [
       "[('Those', 'DT'),\n",
       " ('ideas', 'NNS'),\n",
       " ('would', 'MD'),\n",
       " ('have', 'VB'),\n",
       " ('been', 'VBN'),\n",
       " ('dismissed', 'VBN'),\n",
       " ('as', 'IN'),\n",
       " ('dream', 'NN')]"
      ]
     },
     "execution_count": 23,
     "metadata": {},
     "output_type": "execute_result"
    }
   ],
   "source": [
    "nltk.pos_tag(word_tokenize('Those ideas would have been dismissed as dream'))"
   ]
  },
  {
   "cell_type": "code",
   "execution_count": 24,
   "metadata": {},
   "outputs": [
    {
     "name": "stdout",
     "output_type": "stream",
     "text": [
      "[('Thank', 'NN'), ('for', 'IN'), ('wonderful', 'JJ'), ('welcome', 'NN'), ('.', '.')]\n",
      "[('Thank', 'NN'), ('to', 'TO'), ('people', 'NNS'), ('Prague', 'NNP'), ('.', '.')]\n",
      "[('And', 'CC'), ('thank', 'VB'), ('to', 'TO'), ('people', 'NNS'), ('the', 'DT'), ('Czech', 'NNP'), ('Republic', 'NNP'), ('.', '.')]\n",
      "[('Today', 'NN'), (',', ','), ('I', 'PRP'), ('proud', 'VBP'), ('stand', 'VBP'), ('with', 'IN'), ('middle', 'NN'), ('this', 'DT'), ('great', 'JJ'), ('city', 'NN'), (',', ','), ('in', 'IN'), ('the', 'DT'), ('center', 'NN'), ('Europe', 'NNP'), ('.', '.')]\n",
      "[('And', 'CC'), ('-', ':'), ('paraphrase', 'NN'), ('one', 'CD'), ('predecessors', 'VBZ'), ('-', ':'), ('I', 'PRP'), ('also', 'RB'), ('proud', 'VBP'), ('be', 'VB'), ('man', 'NN'), ('brought', 'VBN'), ('Michelle', 'NNP'), ('Obama', 'NNP'), ('Prague', 'NNP'), ('.', '.')]\n",
      "[('I', 'PRP'), ('learned', 'VBD'), ('many', 'JJ'), ('years', 'NNS'), ('appreciate', 'VBP'), ('good', 'JJ'), ('company', 'NN'), ('good', 'JJ'), ('humor', 'NN'), ('the', 'DT'), ('Czech', 'JJ'), ('people', 'NNS'), ('my', 'PRP$'), ('hometown', 'JJ'), ('Chicago', 'NNP'), ('.', '.')]\n",
      "[('Behind', 'NNP'), ('is', 'VBZ'), ('statue', 'VBG'), ('a', 'DT'), ('hero', 'NN'), ('the', 'DT'), ('Czech', 'NNP'), ('people', 'NNS'), ('-', ':'), ('Tomas', 'NNP'), ('Masaryk', 'NNP'), ('.', '.')]\n",
      "[('In', 'IN'), ('1918', 'CD'), (',', ','), ('America', 'NNP'), ('pledged', 'VBD'), ('support', 'NN'), ('Czech', 'NNP'), ('independence', 'NN'), (',', ','), ('Masaryk', 'NNP'), ('spoke', 'VBD'), ('a', 'DT'), ('crowd', 'NN'), ('Chicago', 'NNP'), ('was', 'VBD'), ('estimated', 'VBN'), ('be', 'VB'), ('100.000', 'CD'), ('.', '.')]\n",
      "[('I', 'PRP'), (\"n't\", 'RB'), ('think', 'VBP'), ('I', 'PRP'), ('match', 'VBP'), ('Masaryk', 'NNP'), (\"'s\", 'POS'), ('record', 'NN'), (',', ','), ('I', 'PRP'), (\"'m\", 'VBP'), ('honored', 'JJ'), ('follow', 'JJ'), ('footsteps', 'NNS'), ('Chicago', 'NNP'), ('Prague', 'NNP'), ('.', '.')]\n",
      "[('For', 'IN'), ('a', 'DT'), ('thousand', 'CD'), ('years', 'NNS'), (',', ','), ('Prague', 'NNP'), ('set', 'VBD'), ('apart', 'RP'), ('any', 'DT'), ('city', 'NN'), ('any', 'DT'), ('place', 'NN'), ('.', '.')]\n",
      "[('You', 'PRP'), ('known', 'VBP'), ('war', 'NN'), ('peace', 'NN'), ('.', '.')]\n",
      "[('You', 'PRP'), ('seen', 'VBN'), ('empires', 'NNS'), ('rise', 'VB'), ('fall', 'NN'), ('.', '.')]\n",
      "[('You', 'PRP'), ('led', 'VBD'), ('revolutions', 'NNS'), ('the', 'DT'), ('arts', 'NNS'), ('science', 'NN'), (',', ','), ('politics', 'NNS'), ('poetry', 'NN'), ('.', '.')]\n",
      "[('Through', 'IN'), ('all', 'DT'), (',', ','), ('people', 'NNS'), ('Prague', 'NNP'), ('insisted', 'VBD'), ('pursuing', 'VBG'), ('own', 'JJ'), ('path', 'NN'), (',', ','), ('defining', 'VBG'), ('own', 'JJ'), ('destiny', 'NN'), ('.', '.')]\n",
      "[('And', 'CC'), ('city', 'NN'), ('-', ':'), ('Golden', 'NNP'), ('City', 'NNP'), ('is', 'VBZ'), ('ancient', 'JJ'), ('youthful', 'JJ'), ('-', ':'), ('stands', 'VBZ'), ('a', 'DT'), ('living', 'JJ'), ('monument', 'NN'), ('your', 'PRP$'), ('unconquerable', 'JJ'), ('spirit', 'NN'), ('.', '.')]\n",
      "[('When', 'WRB'), ('I', 'PRP'), ('born', 'VBP'), (',', ','), ('world', 'NN'), ('divided', 'VBD'), (',', ','), ('our', 'PRP$'), ('nations', 'NNS'), ('faced', 'VBN'), ('very', 'RB'), ('different', 'JJ'), ('circumstances', 'NNS'), ('.', '.')]\n",
      "[('Few', 'JJ'), ('people', 'NNS'), ('would', 'MD'), ('predicted', 'VB'), ('someone', 'NN'), ('like', 'IN'), ('would', 'MD'), ('one', 'CD'), ('day', 'NN'), ('become', 'VB'), ('American', 'JJ'), ('President', 'NNP'), ('.', '.')]\n",
      "[('Few', 'JJ'), ('people', 'NNS'), ('would', 'MD'), ('predicted', 'VBD'), ('an', 'DT'), ('American', 'JJ'), ('President', 'NNP'), ('would', 'MD'), ('one', 'CD'), ('day', 'NN'), ('permitted', 'VBD'), ('speak', 'PDT'), ('an', 'DT'), ('audience', 'NN'), ('like', 'IN'), ('in', 'IN'), ('Prague', 'NNP'), ('.', '.')]\n",
      "[('And', 'CC'), ('would', 'MD'), ('imagined', 'VB'), ('the', 'DT'), ('Czech', 'NNP'), ('Republic', 'NNP'), ('would', 'MD'), ('become', 'VB'), ('free', 'JJ'), ('nation', 'NN'), (',', ','), ('member', 'NN'), ('NATO', 'NNP'), (',', ','), ('a', 'DT'), ('leader', 'NN'), ('a', 'DT'), ('united', 'JJ'), ('Europe', 'NNP'), ('.', '.')]\n",
      "[('Those', 'DT'), ('ideas', 'NNS'), ('would', 'MD'), ('been', 'VBN'), ('dismissed', 'VBN'), ('dream', 'NN')]\n"
     ]
    }
   ],
   "source": [
    "from nltk.corpus import stopwords\n",
    "for i in range(len(documents)):\n",
    "    documents[i]=word_tokenize(documents[i])\n",
    "    for word in documents[i]:\n",
    "        if word in stopwords.words('english'):\n",
    "            documents[i].remove(word)\n",
    "    print(nltk.pos_tag(documents[i]))"
   ]
  },
  {
   "cell_type": "code",
   "execution_count": 19,
   "metadata": {},
   "outputs": [
    {
     "data": {
      "text/plain": [
       "['Thank', 'you', 'for', 'this', 'wonderful', 'welcome', '.']"
      ]
     },
     "execution_count": 19,
     "metadata": {},
     "output_type": "execute_result"
    }
   ],
   "source": [
    "documents[0]"
   ]
  },
  {
   "cell_type": "code",
   "execution_count": null,
   "metadata": {},
   "outputs": [],
   "source": []
  }
 ],
 "metadata": {
  "kernelspec": {
   "display_name": "Python 3",
   "language": "python",
   "name": "python3"
  },
  "language_info": {
   "codemirror_mode": {
    "name": "ipython",
    "version": 3
   },
   "file_extension": ".py",
   "mimetype": "text/x-python",
   "name": "python",
   "nbconvert_exporter": "python",
   "pygments_lexer": "ipython3",
   "version": "3.10.0"
  }
 },
 "nbformat": 4,
 "nbformat_minor": 2
}
