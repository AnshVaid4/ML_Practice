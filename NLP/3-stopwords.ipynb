{
 "cells": [
  {
   "cell_type": "code",
   "execution_count": 4,
   "metadata": {},
   "outputs": [
    {
     "name": "stderr",
     "output_type": "stream",
     "text": [
      "[nltk_data] Downloading package stopwords to\n",
      "[nltk_data]     C:\\Users\\anshv\\AppData\\Roaming\\nltk_data...\n",
      "[nltk_data]   Unzipping corpora\\stopwords.zip.\n"
     ]
    },
    {
     "data": {
      "text/plain": [
       "True"
      ]
     },
     "execution_count": 4,
     "metadata": {},
     "output_type": "execute_result"
    }
   ],
   "source": [
    "import nltk\n",
    "nltk.download('stopwords')"
   ]
  },
  {
   "cell_type": "code",
   "execution_count": 5,
   "metadata": {},
   "outputs": [
    {
     "data": {
      "text/plain": [
       "['i',\n",
       " 'me',\n",
       " 'my',\n",
       " 'myself',\n",
       " 'we',\n",
       " 'our',\n",
       " 'ours',\n",
       " 'ourselves',\n",
       " 'you',\n",
       " \"you're\",\n",
       " \"you've\",\n",
       " \"you'll\",\n",
       " \"you'd\",\n",
       " 'your',\n",
       " 'yours',\n",
       " 'yourself',\n",
       " 'yourselves',\n",
       " 'he',\n",
       " 'him',\n",
       " 'his',\n",
       " 'himself',\n",
       " 'she',\n",
       " \"she's\",\n",
       " 'her',\n",
       " 'hers',\n",
       " 'herself',\n",
       " 'it',\n",
       " \"it's\",\n",
       " 'its',\n",
       " 'itself',\n",
       " 'they',\n",
       " 'them',\n",
       " 'their',\n",
       " 'theirs',\n",
       " 'themselves',\n",
       " 'what',\n",
       " 'which',\n",
       " 'who',\n",
       " 'whom',\n",
       " 'this',\n",
       " 'that',\n",
       " \"that'll\",\n",
       " 'these',\n",
       " 'those',\n",
       " 'am',\n",
       " 'is',\n",
       " 'are',\n",
       " 'was',\n",
       " 'were',\n",
       " 'be',\n",
       " 'been',\n",
       " 'being',\n",
       " 'have',\n",
       " 'has',\n",
       " 'had',\n",
       " 'having',\n",
       " 'do',\n",
       " 'does',\n",
       " 'did',\n",
       " 'doing',\n",
       " 'a',\n",
       " 'an',\n",
       " 'the',\n",
       " 'and',\n",
       " 'but',\n",
       " 'if',\n",
       " 'or',\n",
       " 'because',\n",
       " 'as',\n",
       " 'until',\n",
       " 'while',\n",
       " 'of',\n",
       " 'at',\n",
       " 'by',\n",
       " 'for',\n",
       " 'with',\n",
       " 'about',\n",
       " 'against',\n",
       " 'between',\n",
       " 'into',\n",
       " 'through',\n",
       " 'during',\n",
       " 'before',\n",
       " 'after',\n",
       " 'above',\n",
       " 'below',\n",
       " 'to',\n",
       " 'from',\n",
       " 'up',\n",
       " 'down',\n",
       " 'in',\n",
       " 'out',\n",
       " 'on',\n",
       " 'off',\n",
       " 'over',\n",
       " 'under',\n",
       " 'again',\n",
       " 'further',\n",
       " 'then',\n",
       " 'once',\n",
       " 'here',\n",
       " 'there',\n",
       " 'when',\n",
       " 'where',\n",
       " 'why',\n",
       " 'how',\n",
       " 'all',\n",
       " 'any',\n",
       " 'both',\n",
       " 'each',\n",
       " 'few',\n",
       " 'more',\n",
       " 'most',\n",
       " 'other',\n",
       " 'some',\n",
       " 'such',\n",
       " 'no',\n",
       " 'nor',\n",
       " 'not',\n",
       " 'only',\n",
       " 'own',\n",
       " 'same',\n",
       " 'so',\n",
       " 'than',\n",
       " 'too',\n",
       " 'very',\n",
       " 's',\n",
       " 't',\n",
       " 'can',\n",
       " 'will',\n",
       " 'just',\n",
       " 'don',\n",
       " \"don't\",\n",
       " 'should',\n",
       " \"should've\",\n",
       " 'now',\n",
       " 'd',\n",
       " 'll',\n",
       " 'm',\n",
       " 'o',\n",
       " 're',\n",
       " 've',\n",
       " 'y',\n",
       " 'ain',\n",
       " 'aren',\n",
       " \"aren't\",\n",
       " 'couldn',\n",
       " \"couldn't\",\n",
       " 'didn',\n",
       " \"didn't\",\n",
       " 'doesn',\n",
       " \"doesn't\",\n",
       " 'hadn',\n",
       " \"hadn't\",\n",
       " 'hasn',\n",
       " \"hasn't\",\n",
       " 'haven',\n",
       " \"haven't\",\n",
       " 'isn',\n",
       " \"isn't\",\n",
       " 'ma',\n",
       " 'mightn',\n",
       " \"mightn't\",\n",
       " 'mustn',\n",
       " \"mustn't\",\n",
       " 'needn',\n",
       " \"needn't\",\n",
       " 'shan',\n",
       " \"shan't\",\n",
       " 'shouldn',\n",
       " \"shouldn't\",\n",
       " 'wasn',\n",
       " \"wasn't\",\n",
       " 'weren',\n",
       " \"weren't\",\n",
       " 'won',\n",
       " \"won't\",\n",
       " 'wouldn',\n",
       " \"wouldn't\"]"
      ]
     },
     "execution_count": 5,
     "metadata": {},
     "output_type": "execute_result"
    }
   ],
   "source": [
    "from nltk.corpus import stopwords\n",
    "stopwords.words('english')"
   ]
  },
  {
   "cell_type": "code",
   "execution_count": 6,
   "metadata": {},
   "outputs": [],
   "source": [
    "stopwords=stopwords.words('english')"
   ]
  },
  {
   "cell_type": "code",
   "execution_count": 10,
   "metadata": {},
   "outputs": [],
   "source": [
    "corpus=\"\"\"\n",
    "Thank you for this wonderful welcome. Thank you to the people of Prague. And thank you to\n",
    "the people of the Czech Republic. Today, I am proud to stand here with you in the middle of\n",
    "this great city, in the center of Europe. And - to paraphrase one my predecessors - I am also\n",
    "proud to be the man who brought Michelle Obama to Prague.\n",
    "I have learned over many years to appreciate the good company and good humor of the Czech\n",
    "people in my hometown of Chicago. Behind me is a statue of a hero of the Czech people -\n",
    "Tomas Masaryk. In 1918, after America had pledged its support for Czech independence,\n",
    "Masaryk spoke to a crowd in Chicago that was estimated to be over 100.000. I don't think I\n",
    "can match Masaryk's record, but I'm honored to follow his footsteps from Chicago to Prague.\n",
    "For over a thousand years, Prague has set itself apart from any other city in any other place.\n",
    "You have known war and peace. You have seen empires rise and fall. You have led\n",
    "revolutions in the arts and science, in politics and poetry. Through it all, the people of Prague\n",
    "have insisted on pursuing their own path, and defining their own destiny. And this city - this\n",
    "Golden City which is both ancient and youthful - stands as a living monument to your\n",
    "unconquerable spirit.\n",
    "When I was born, the world was divided, and our nations were faced with very different\n",
    "circumstances. Few people would have predicted that someone like me would one day\n",
    "become an American President. Few people would have predicted that an American President\n",
    "would one day be permitted to speak to an audience like this in Prague. And few would have\n",
    "imagined that the Czech Republic would become a free nation, a member of NATO, and a\n",
    "leader of a united Europe. Those ideas would have been dismissed as dream\n",
    "\"\"\""
   ]
  },
  {
   "cell_type": "code",
   "execution_count": 11,
   "metadata": {},
   "outputs": [
    {
     "name": "stdout",
     "output_type": "stream",
     "text": [
      "\n",
      "Thank you for this wonderful welcome. Thank you to the people of Prague. And thank you to\n",
      "the people of the Czech Republic. Today, I am proud to stand here with you in the middle of\n",
      "this great city, in the center of Europe. And - to paraphrase one my predecessors - I am also\n",
      "proud to be the man who brought Michelle Obama to Prague.\n",
      "I have learned over many years to appreciate the good company and good humor of the Czech\n",
      "people in my hometown of Chicago. Behind me is a statue of a hero of the Czech people -\n",
      "Tomas Masaryk. In 1918, after America had pledged its support for Czech independence,\n",
      "Masaryk spoke to a crowd in Chicago that was estimated to be over 100.000. I don't think I\n",
      "can match Masaryk's record, but I'm honored to follow his footsteps from Chicago to Prague.\n",
      "For over a thousand years, Prague has set itself apart from any other city in any other place.\n",
      "You have known war and peace. You have seen empires rise and fall. You have led\n",
      "revolutions in the arts and science, in politics and poetry. Through it all, the people of Prague\n",
      "have insisted on pursuing their own path, and defining their own destiny. And this city - this\n",
      "Golden City which is both ancient and youthful - stands as a living monument to your\n",
      "unconquerable spirit.\n",
      "When I was born, the world was divided, and our nations were faced with very different\n",
      "circumstances. Few people would have predicted that someone like me would one day\n",
      "become an American President. Few people would have predicted that an American President\n",
      "would one day be permitted to speak to an audience like this in Prague. And few would have\n",
      "imagined that the Czech Republic would become a free nation, a member of NATO, and a\n",
      "leader of a united Europe. Those ideas would have been dismissed as dream\n",
      "\n"
     ]
    }
   ],
   "source": [
    "print(corpus)"
   ]
  },
  {
   "cell_type": "code",
   "execution_count": 14,
   "metadata": {},
   "outputs": [
    {
     "data": {
      "text/plain": [
       "['\\nThank you for this wonderful welcome.',\n",
       " 'Thank you to the people of Prague.',\n",
       " 'And thank you to\\nthe people of the Czech Republic.',\n",
       " 'Today, I am proud to stand here with you in the middle of\\nthis great city, in the center of Europe.',\n",
       " 'And - to paraphrase one my predecessors - I am also\\nproud to be the man who brought Michelle Obama to Prague.',\n",
       " 'I have learned over many years to appreciate the good company and good humor of the Czech\\npeople in my hometown of Chicago.',\n",
       " 'Behind me is a statue of a hero of the Czech people -\\nTomas Masaryk.',\n",
       " 'In 1918, after America had pledged its support for Czech independence,\\nMasaryk spoke to a crowd in Chicago that was estimated to be over 100.000.',\n",
       " \"I don't think I\\ncan match Masaryk's record, but I'm honored to follow his footsteps from Chicago to Prague.\",\n",
       " 'For over a thousand years, Prague has set itself apart from any other city in any other place.',\n",
       " 'You have known war and peace.',\n",
       " 'You have seen empires rise and fall.',\n",
       " 'You have led\\nrevolutions in the arts and science, in politics and poetry.',\n",
       " 'Through it all, the people of Prague\\nhave insisted on pursuing their own path, and defining their own destiny.',\n",
       " 'And this city - this\\nGolden City which is both ancient and youthful - stands as a living monument to your\\nunconquerable spirit.',\n",
       " 'When I was born, the world was divided, and our nations were faced with very different\\ncircumstances.',\n",
       " 'Few people would have predicted that someone like me would one day\\nbecome an American President.',\n",
       " 'Few people would have predicted that an American President\\nwould one day be permitted to speak to an audience like this in Prague.',\n",
       " 'And few would have\\nimagined that the Czech Republic would become a free nation, a member of NATO, and a\\nleader of a united Europe.',\n",
       " 'Those ideas would have been dismissed as dream']"
      ]
     },
     "execution_count": 14,
     "metadata": {},
     "output_type": "execute_result"
    }
   ],
   "source": [
    "from nltk.tokenize import sent_tokenize\n",
    "from nltk.tokenize import word_tokenize\n",
    "document=sent_tokenize(corpus)\n",
    "document"
   ]
  },
  {
   "cell_type": "code",
   "execution_count": 15,
   "metadata": {},
   "outputs": [
    {
     "name": "stdout",
     "output_type": "stream",
     "text": [
      "thank\n",
      "you\n",
      "for\n",
      "thi\n",
      "wonder\n",
      "welcom\n",
      ".\n"
     ]
    }
   ],
   "source": [
    "from nltk.stem import PorterStemmer\n",
    "stem=PorterStemmer()\n",
    "for sentence in document:\n",
    "    for word in word_tokenize(sentence):\n",
    "        print(stem.stem(word=word))\n",
    "    break"
   ]
  },
  {
   "cell_type": "code",
   "execution_count": 16,
   "metadata": {},
   "outputs": [
    {
     "name": "stdout",
     "output_type": "stream",
     "text": [
      "thank\n",
      "wonder\n",
      "welcom\n",
      ".\n"
     ]
    }
   ],
   "source": [
    "from nltk.stem import PorterStemmer\n",
    "stem=PorterStemmer()\n",
    "for sentence in document:\n",
    "    for word in word_tokenize(sentence):\n",
    "        if word not in stopwords:\n",
    "            print(stem.stem(word=word))\n",
    "    break"
   ]
  },
  {
   "cell_type": "code",
   "execution_count": 17,
   "metadata": {},
   "outputs": [
    {
     "name": "stdout",
     "output_type": "stream",
     "text": [
      "Thank\n",
      "wonderful\n",
      "welcome\n",
      ".\n"
     ]
    }
   ],
   "source": [
    "from nltk.stem import WordNetLemmatizer\n",
    "stem=WordNetLemmatizer()\n",
    "for sentence in document:\n",
    "    for word in word_tokenize(sentence):\n",
    "        if word not in stopwords:\n",
    "            print(stem.lemmatize(word=word,pos='v'))\n",
    "    break"
   ]
  },
  {
   "cell_type": "code",
   "execution_count": 19,
   "metadata": {},
   "outputs": [],
   "source": [
    "corpusTransformed=[]\n",
    "stem=WordNetLemmatizer()\n",
    "for sentence in document:\n",
    "    sentenceTransformed=[]\n",
    "    for word in word_tokenize(sentence):\n",
    "        if word not in stopwords:\n",
    "            sentenceTransformed.append(stem.lemmatize(word=word,pos='v'))\n",
    "    corpusTransformed.append(\" \".join(sentenceTransformed))"
   ]
  },
  {
   "cell_type": "code",
   "execution_count": 20,
   "metadata": {},
   "outputs": [
    {
     "data": {
      "text/plain": [
       "['Thank wonderful welcome .',\n",
       " 'Thank people Prague .',\n",
       " 'And thank people Czech Republic .',\n",
       " 'Today , I proud stand middle great city , center Europe .',\n",
       " 'And - paraphrase one predecessors - I also proud man bring Michelle Obama Prague .',\n",
       " 'I learn many years appreciate good company good humor Czech people hometown Chicago .',\n",
       " 'Behind statue hero Czech people - Tomas Masaryk .',\n",
       " 'In 1918 , America pledge support Czech independence , Masaryk speak crowd Chicago estimate 100.000 .',\n",
       " \"I n't think I match Masaryk 's record , I 'm honor follow footsteps Chicago Prague .\",\n",
       " 'For thousand years , Prague set apart city place .',\n",
       " 'You know war peace .',\n",
       " 'You see empires rise fall .',\n",
       " 'You lead revolutions arts science , politics poetry .',\n",
       " 'Through , people Prague insist pursue path , define destiny .',\n",
       " 'And city - Golden City ancient youthful - stand live monument unconquerable spirit .',\n",
       " 'When I bear , world divide , nations face different circumstances .',\n",
       " 'Few people would predict someone like would one day become American President .',\n",
       " 'Few people would predict American President would one day permit speak audience like Prague .',\n",
       " 'And would imagine Czech Republic would become free nation , member NATO , leader unite Europe .',\n",
       " 'Those ideas would dismiss dream']"
      ]
     },
     "execution_count": 20,
     "metadata": {},
     "output_type": "execute_result"
    }
   ],
   "source": [
    "corpusTransformed"
   ]
  },
  {
   "cell_type": "code",
   "execution_count": null,
   "metadata": {},
   "outputs": [],
   "source": []
  }
 ],
 "metadata": {
  "kernelspec": {
   "display_name": "Python 3",
   "language": "python",
   "name": "python3"
  },
  "language_info": {
   "codemirror_mode": {
    "name": "ipython",
    "version": 3
   },
   "file_extension": ".py",
   "mimetype": "text/x-python",
   "name": "python",
   "nbconvert_exporter": "python",
   "pygments_lexer": "ipython3",
   "version": "3.10.0"
  }
 },
 "nbformat": 4,
 "nbformat_minor": 2
}
